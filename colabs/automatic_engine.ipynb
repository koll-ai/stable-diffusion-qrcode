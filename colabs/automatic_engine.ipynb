{
 "cells": [
  {
   "cell_type": "code",
   "execution_count": null,
   "metadata": {},
   "outputs": [],
   "source": [
    "# webui params\n",
    "URL_AUTOMATIC_WEBUI = \"https://sdwebui.koll.ai\"\n",
    "PORT_AUTOMATIC_WEBUI = 7860\n",
    "USER=os.getenv(\"webui_user\")\n",
    "PASS=os.getenv(\"webui_pass\")\n",
    "\n",
    "# Create a webui session\n",
    "# if starts with http:\n",
    "if URL_AUTOMATIC_WEBUI.startswith(\"http\"):\n",
    "    webui = webuiapi.WebUIApi(URL_AUTOMATIC_WEBUI[8:], username=USER, password=PASS, port=PORT_AUTOMATIC_WEBUI)\n",
    "if URL_AUTOMATIC_WEBUI.startswith(\"https\"):\n",
    "    webui = webuiapi.WebUIApi(URL_AUTOMATIC_WEBUI[8:], username=USER, password=PASS, port=443, use_https=True)\n",
    "\n"
   ]
  },
  {
   "cell_type": "code",
   "execution_count": 15,
   "metadata": {},
   "outputs": [
    {
     "data": {
      "text/plain": [
       "webuiapi.webuiapi.WebUIApi"
      ]
     },
     "execution_count": 15,
     "metadata": {},
     "output_type": "execute_result"
    }
   ],
   "source": [
    "import webuiapi\n",
    "type(webuiapi.WebUIApi())"
   ]
  },
  {
   "cell_type": "code",
   "execution_count": 11,
   "metadata": {},
   "outputs": [
    {
     "ename": "NameError",
     "evalue": "name 'webui' is not defined",
     "output_type": "error",
     "traceback": [
      "\u001b[0;31m---------------------------------------------------------------------------\u001b[0m",
      "\u001b[0;31mNameError\u001b[0m                                 Traceback (most recent call last)",
      "Cell \u001b[0;32mIn[11], line 1\u001b[0m\n\u001b[0;32m----> 1\u001b[0m \u001b[39mtype\u001b[39m(webui)\n",
      "\u001b[0;31mNameError\u001b[0m: name 'webui' is not defined"
     ]
    }
   ],
   "source": [
    "type(webui)"
   ]
  },
  {
   "cell_type": "code",
   "execution_count": 4,
   "metadata": {},
   "outputs": [],
   "source": [
    "import qrcode"
   ]
  },
  {
   "cell_type": "code",
   "execution_count": 9,
   "metadata": {},
   "outputs": [
    {
     "data": {
      "text/plain": [
       "{'global_params': {'steps': 50},\n",
       " 'controlnet_units': [{'unit1': {'module': 'none',\n",
       "    'model': 'None',\n",
       "    'weight': 0.5,\n",
       "    'start': 0.1,\n",
       "    'end': 0.9}},\n",
       "  {'unit2': {'module': 'none',\n",
       "    'model': 'None',\n",
       "    'weight': 0.5,\n",
       "    'start': 0.1,\n",
       "    'end': 0.9}}],\n",
       " 'qrcode_params': {'error_correction': 'high', 'box_size': 10, 'border': 4}}"
      ]
     },
     "execution_count": 9,
     "metadata": {},
     "output_type": "execute_result"
    }
   ],
   "source": [
    "import yaml\n",
    "\n",
    "default_yaml = \"../configs/default.yaml\"\n",
    "custom_yaml = \"../configs/custom.yaml\"\n",
    "\n",
    "with open(default_yaml, \"r\") as stream:\n",
    "    default_config = yaml.safe_load(stream)\n",
    "with open(custom_yaml, \"r\") as stream:\n",
    "    custom_config = yaml.safe_load(stream)\n",
    "\n",
    "# Merge the two dictionaries\n",
    "config = {**default_config, **custom_config}\n",
    "config"
   ]
  },
  {
   "cell_type": "code",
   "execution_count": 10,
   "metadata": {},
   "outputs": [
    {
     "data": {
      "text/plain": [
       "dict"
      ]
     },
     "execution_count": 10,
     "metadata": {},
     "output_type": "execute_result"
    }
   ],
   "source": [
    "type(config)"
   ]
  },
  {
   "cell_type": "code",
   "execution_count": 5,
   "metadata": {},
   "outputs": [
    {
     "name": "stdout",
     "output_type": "stream",
     "text": [
      "Help on module qrcode.constants in qrcode:\n",
      "\n",
      "NAME\n",
      "    qrcode.constants - # QR error correct levels\n",
      "\n",
      "DATA\n",
      "    ERROR_CORRECT_H = 2\n",
      "    ERROR_CORRECT_L = 1\n",
      "    ERROR_CORRECT_M = 0\n",
      "    ERROR_CORRECT_Q = 3\n",
      "\n",
      "FILE\n",
      "    /home/philippehenrisaade/miniconda3/envs/sdwebui/lib/python3.11/site-packages/qrcode/constants.py\n",
      "\n",
      "\n"
     ]
    }
   ],
   "source": [
    "help(qrcode.constants)"
   ]
  },
  {
   "cell_type": "code",
   "execution_count": null,
   "metadata": {},
   "outputs": [],
   "source": [
    "prompt = \"painting\"\n",
    "\n",
    "cn_brightness_weight = 0.35\n",
    "cn_brightness_start = 0.0\n",
    "cn_brightness_end = 1.0\n",
    "\n",
    "cn_tile_weight = 0.4\n",
    "cn_tile_start = 0.35\n",
    "cn_tile_end = 0.7\n",
    "\n",
    "\n",
    "\n",
    "\n",
    "unit_cn_brightness = webuiapi.ControlNetUnit(input_image=qr_img, \n",
    "                                             module='inpaint', \n",
    "                                             model=\"control_v1p_sd15_brightness [5f6aa6ed]\",\n",
    "                                             pixel_perfect=True,\n",
    "                                             weight=cn_brightness_weight,\n",
    "                                             guidance_start=cn_brightness_start,\n",
    "                                             guidance_end=cn_brightness_end,\n",
    ")\n",
    "\n",
    "unit_cn_tile = webuiapi.ControlNetUnit(input_image=qr_img,\n",
    "                                        module='inpaint',\n",
    "                                        model='control_v11f1e_sd15_tile [a371b31b]',\n",
    "                                        pixel_perfect=True,\n",
    "                                        weight=cn_tile_weight,\n",
    "                                        guidance_start=cn_tile_start,\n",
    "                                        guidance_end=cn_tile_end\n",
    ")\n",
    "             \n",
    "cn_units=[unit_cn_brightness, unit_cn_tile]      \n",
    "\n",
    "r = webui.txt2img(prompt=prompt, controlnet_units=cn_units)\n",
    "\n",
    "r.image\n",
    "\n",
    "                     \n",
    "                                                "
   ]
  }
 ],
 "metadata": {
  "kernelspec": {
   "display_name": "sdwebui",
   "language": "python",
   "name": "python3"
  },
  "language_info": {
   "codemirror_mode": {
    "name": "ipython",
    "version": 3
   },
   "file_extension": ".py",
   "mimetype": "text/x-python",
   "name": "python",
   "nbconvert_exporter": "python",
   "pygments_lexer": "ipython3",
   "version": "3.11.3"
  },
  "orig_nbformat": 4
 },
 "nbformat": 4,
 "nbformat_minor": 2
}
