{
 "cells": [
  {
   "cell_type": "code",
   "execution_count": 17,
   "metadata": {},
   "outputs": [
    {
     "name": "stdout",
     "output_type": "stream",
     "text": [
      "Collecting python-dotenv\n",
      "  Using cached python_dotenv-1.0.0-py3-none-any.whl (19 kB)\n",
      "Installing collected packages: python-dotenv\n",
      "Successfully installed python-dotenv-1.0.0\n"
     ]
    }
   ],
   "source": [
    "!pip install python-dotenv"
   ]
  },
  {
   "cell_type": "code",
   "execution_count": 19,
   "metadata": {},
   "outputs": [
    {
     "data": {
      "text/plain": [
       "True"
      ]
     },
     "execution_count": 19,
     "metadata": {},
     "output_type": "execute_result"
    }
   ],
   "source": [
    "import dotenv\n",
    "dotenv.load_dotenv(\".env\")"
   ]
  },
  {
   "cell_type": "code",
   "execution_count": 20,
   "metadata": {},
   "outputs": [],
   "source": [
    "# webui params\n",
    "import os\n",
    "URL_AUTOMATIC_WEBUI = \"https://sdwebui.koll.ai\"\n",
    "PORT_AUTOMATIC_WEBUI = 7860\n",
    "USER=os.getenv(\"AUTO_API_USERNAME\")\n",
    "PASS=os.getenv(\"AUTO_API_USERNAME\")\n",
    "\n",
    "# Create a webui session\n",
    "# if starts with http:\n",
    "if URL_AUTOMATIC_WEBUI.startswith(\"http\"):\n",
    "    webui = webuiapi.WebUIApi(URL_AUTOMATIC_WEBUI[8:], username=USER, password=PASS, port=PORT_AUTOMATIC_WEBUI)\n",
    "if URL_AUTOMATIC_WEBUI.startswith(\"https\"):\n",
    "    webui = webuiapi.WebUIApi(URL_AUTOMATIC_WEBUI[8:], username=USER, password=PASS, port=443, use_https=True)\n",
    "\n"
   ]
  },
  {
   "cell_type": "code",
   "execution_count": 24,
   "metadata": {},
   "outputs": [
    {
     "data": {
      "text/plain": [
       "[{'title': 'dreamshaperv6.safetensors [853e7e85c4]',\n",
       "  'model_name': 'dreamshaperv6',\n",
       "  'hash': '853e7e85c4',\n",
       "  'sha256': '853e7e85c46be9ad4815666cd335545df32dab5e0d22afe5ccc6ad9bda834b52',\n",
       "  'filename': '/stable-diffusion-webui/models/Stable-diffusion/dreamshaperv6.safetensors',\n",
       "  'config': None},\n",
       " {'title': 'v1-5-pruned-emaonly.safetensors [6ce0161689]',\n",
       "  'model_name': 'v1-5-pruned-emaonly',\n",
       "  'hash': '6ce0161689',\n",
       "  'sha256': '6ce0161689b3853acaa03779ec93eafe75a02f4ced659bee03f50797806fa2fa',\n",
       "  'filename': '/stable-diffusion-webui/models/Stable-diffusion/v1-5-pruned-emaonly.safetensors',\n",
       "  'config': None},\n",
       " {'title': 'v2-1_768-ema-pruned.safetensors [dcd690123c]',\n",
       "  'model_name': 'v2-1_768-ema-pruned',\n",
       "  'hash': 'dcd690123c',\n",
       "  'sha256': 'dcd690123cfc64383981a31d955694f6acf2072a80537fdb612c8e58ec87a8ac',\n",
       "  'filename': '/stable-diffusion-webui/models/Stable-diffusion/v2-1_768-ema-pruned.safetensors',\n",
       "  'config': None},\n",
       " {'title': 'realisticvision2.0.safetensors [c0d1994c73]',\n",
       "  'model_name': 'realisticvision2.0',\n",
       "  'hash': 'c0d1994c73',\n",
       "  'sha256': 'c0d1994c73d784a17a5b335ae8bda02dcc8dd2fc5f5dbf55169d5aab385e53f2',\n",
       "  'filename': '/stable-diffusion-webui/models/Stable-diffusion/realisticvision2.0.safetensors',\n",
       "  'config': None}]"
      ]
     },
     "execution_count": 24,
     "metadata": {},
     "output_type": "execute_result"
    }
   ],
   "source": [
    "webui.get_sd_models()"
   ]
  },
  {
   "cell_type": "code",
   "execution_count": null,
   "metadata": {},
   "outputs": [],
   "source": [
    "URL_AUTOMATIC_WEBUI = \"https://sdwebui.koll.ai\"\n",
    "\n",
    "\n",
    "webui = webuiapi.WebUIApi(URL_AUTOMATIC_WEBUI[8:], username=USER, password=PASS, port=443, use_https=True)"
   ]
  },
  {
   "cell_type": "code",
   "execution_count": 15,
   "metadata": {},
   "outputs": [
    {
     "data": {
      "text/plain": [
       "webuiapi.webuiapi.WebUIApi"
      ]
     },
     "execution_count": 15,
     "metadata": {},
     "output_type": "execute_result"
    }
   ],
   "source": [
    "import webuiapi\n",
    "type(webuiapi.WebUIApi())"
   ]
  },
  {
   "cell_type": "code",
   "execution_count": 11,
   "metadata": {},
   "outputs": [
    {
     "ename": "NameError",
     "evalue": "name 'webui' is not defined",
     "output_type": "error",
     "traceback": [
      "\u001b[0;31m---------------------------------------------------------------------------\u001b[0m",
      "\u001b[0;31mNameError\u001b[0m                                 Traceback (most recent call last)",
      "Cell \u001b[0;32mIn[11], line 1\u001b[0m\n\u001b[0;32m----> 1\u001b[0m \u001b[39mtype\u001b[39m(webui)\n",
      "\u001b[0;31mNameError\u001b[0m: name 'webui' is not defined"
     ]
    }
   ],
   "source": [
    "type(webui)"
   ]
  },
  {
   "cell_type": "code",
   "execution_count": 4,
   "metadata": {},
   "outputs": [],
   "source": [
    "import qrcode"
   ]
  },
  {
   "cell_type": "code",
   "execution_count": 9,
   "metadata": {},
   "outputs": [
    {
     "data": {
      "text/plain": [
       "{'global_params': {'steps': 50},\n",
       " 'controlnet_units': [{'unit1': {'module': 'none',\n",
       "    'model': 'None',\n",
       "    'weight': 0.5,\n",
       "    'start': 0.1,\n",
       "    'end': 0.9}},\n",
       "  {'unit2': {'module': 'none',\n",
       "    'model': 'None',\n",
       "    'weight': 0.5,\n",
       "    'start': 0.1,\n",
       "    'end': 0.9}}],\n",
       " 'qrcode_params': {'error_correction': 'high', 'box_size': 10, 'border': 4}}"
      ]
     },
     "execution_count": 9,
     "metadata": {},
     "output_type": "execute_result"
    }
   ],
   "source": [
    "import yaml\n",
    "\n",
    "default_yaml = \"../configs/default.yaml\"\n",
    "custom_yaml = \"../configs/custom.yaml\"\n",
    "\n",
    "with open(default_yaml, \"r\") as stream:\n",
    "    default_config = yaml.safe_load(stream)\n",
    "with open(custom_yaml, \"r\") as stream:\n",
    "    custom_config = yaml.safe_load(stream)\n",
    "\n",
    "# Merge the two dictionaries\n",
    "config = {**default_config, **custom_config}\n",
    "config"
   ]
  },
  {
   "cell_type": "code",
   "execution_count": 10,
   "metadata": {},
   "outputs": [
    {
     "data": {
      "text/plain": [
       "dict"
      ]
     },
     "execution_count": 10,
     "metadata": {},
     "output_type": "execute_result"
    }
   ],
   "source": [
    "type(config)"
   ]
  },
  {
   "cell_type": "code",
   "execution_count": 5,
   "metadata": {},
   "outputs": [
    {
     "name": "stdout",
     "output_type": "stream",
     "text": [
      "Help on module qrcode.constants in qrcode:\n",
      "\n",
      "NAME\n",
      "    qrcode.constants - # QR error correct levels\n",
      "\n",
      "DATA\n",
      "    ERROR_CORRECT_H = 2\n",
      "    ERROR_CORRECT_L = 1\n",
      "    ERROR_CORRECT_M = 0\n",
      "    ERROR_CORRECT_Q = 3\n",
      "\n",
      "FILE\n",
      "    /home/philippehenrisaade/miniconda3/envs/sdwebui/lib/python3.11/site-packages/qrcode/constants.py\n",
      "\n",
      "\n"
     ]
    }
   ],
   "source": [
    "help(qrcode.constants)"
   ]
  },
  {
   "cell_type": "code",
   "execution_count": null,
   "metadata": {},
   "outputs": [],
   "source": [
    "prompt = \"painting\"\n",
    "\n",
    "cn_brightness_weight = 0.35\n",
    "cn_brightness_start = 0.0\n",
    "cn_brightness_end = 1.0\n",
    "\n",
    "cn_tile_weight = 0.4\n",
    "cn_tile_start = 0.35\n",
    "cn_tile_end = 0.7\n",
    "\n",
    "\n",
    "\n",
    "\n",
    "unit_cn_brightness = webuiapi.ControlNetUnit(input_image=qr_img, \n",
    "                                             module='inpaint', \n",
    "                                             model=\"control_v1p_sd15_brightness [5f6aa6ed]\",\n",
    "                                             pixel_perfect=True,\n",
    "                                             weight=cn_brightness_weight,\n",
    "                                             guidance_start=cn_brightness_start,\n",
    "                                             guidance_end=cn_brightness_end,\n",
    ")\n",
    "\n",
    "unit_cn_tile = webuiapi.ControlNetUnit(input_image=qr_img,\n",
    "                                        module='inpaint',\n",
    "                                        model='control_v11f1e_sd15_tile [a371b31b]',\n",
    "                                        pixel_perfect=True,\n",
    "                                        weight=cn_tile_weight,\n",
    "                                        guidance_start=cn_tile_start,\n",
    "                                        guidance_end=cn_tile_end\n",
    ")\n",
    "             \n",
    "cn_units=[unit_cn_brightness, unit_cn_tile]      \n",
    "\n",
    "r = webui.txt2img(prompt=prompt, controlnet_units=cn_units)\n",
    "\n",
    "r.image\n",
    "\n",
    "                     \n",
    "                                                "
   ]
  }
 ],
 "metadata": {
  "kernelspec": {
   "display_name": "sdwebui",
   "language": "python",
   "name": "python3"
  },
  "language_info": {
   "codemirror_mode": {
    "name": "ipython",
    "version": 3
   },
   "file_extension": ".py",
   "mimetype": "text/x-python",
   "name": "python",
   "nbconvert_exporter": "python",
   "pygments_lexer": "ipython3",
   "version": "3.11.3"
  },
  "orig_nbformat": 4
 },
 "nbformat": 4,
 "nbformat_minor": 2
}
